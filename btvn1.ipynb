{
 "cells": [
  {
   "cell_type": "code",
   "execution_count": 1,
   "id": "716997bf-fe9f-45ed-9792-3a7fbb02421b",
   "metadata": {},
   "outputs": [
    {
     "name": "stdin",
     "output_type": "stream",
     "text": [
      "Nhập số nguyên n: 2\n"
     ]
    },
    {
     "name": "stdout",
     "output_type": "stream",
     "text": [
      "Số gấp đôi của n là: 4\n"
     ]
    }
   ],
   "source": [
    "\n",
    "n=int(input(\"Nhập số nguyên n:\"))\n",
    "print(\"Số gấp đôi của n là:\", n * 2)"
   ]
  },
  {
   "cell_type": "code",
   "execution_count": 2,
   "id": "b2cb135d-e215-461c-ac1e-c2a8e12e3e05",
   "metadata": {},
   "outputs": [
    {
     "name": "stdin",
     "output_type": "stream",
     "text": [
      "Chiều rộng a: 3\n",
      "Chiều dài b: 5\n"
     ]
    },
    {
     "name": "stdout",
     "output_type": "stream",
     "text": [
      "Diện tích còn lại là: 7.93\n"
     ]
    }
   ],
   "source": [
    "a=float(input(\"Chiều rộng a:\"))\n",
    "b=float(input(\"Chiều dài b:\"))\n",
    "r=a/2\n",
    "S= a*b - 3.14*(r**2)\n",
    "print(\"Diện tích còn lại là:\", round(S, 2))\n"
   ]
  },
  {
   "cell_type": "code",
   "execution_count": 3,
   "id": "770e17a8-1081-4270-bdef-60137b83b895",
   "metadata": {},
   "outputs": [
    {
     "name": "stdin",
     "output_type": "stream",
     "text": [
      "Nhập vào 1 ký tự: a\n"
     ]
    },
    {
     "name": "stdout",
     "output_type": "stream",
     "text": [
      "Ký tự sau khi đổi: A\n"
     ]
    }
   ],
   "source": [
    "c= input(\"Nhập vào 1 ký tự:\")\n",
    "if c.isupper():\n",
    "    print(\"Kí tự sau khi đổi:\", c.lower())\n",
    "else\n",
    "    print(\"Ký tự sau khi đổi:\", c.upper())\n"
   ]
  },
  {
   "cell_type": "code",
   "execution_count": 4,
   "id": "f5807778-a897-4751-89cc-7439b6599bf0",
   "metadata": {},
   "outputs": [
    {
     "name": "stdin",
     "output_type": "stream",
     "text": [
      "Nhập một ký tự:  n\n"
     ]
    },
    {
     "name": "stdout",
     "output_type": "stream",
     "text": [
      "n là ký tự alphabet\n"
     ]
    }
   ],
   "source": [
    "c = input(\"Nhập một ký tự: \")\n",
    "if c.isalpha():\n",
    "    print(f\"{c} là ký tự alphabet\")\n",
    "else:\n",
    "    print(f\"{c} không phải là ký tự alphabet\")"
   ]
  },
  {
   "cell_type": "code",
   "execution_count": 5,
   "id": "4dd93bc8-e219-4f06-84c5-ff002bfe1a47",
   "metadata": {},
   "outputs": [
    {
     "name": "stdin",
     "output_type": "stream",
     "text": [
      "Nhập một kí tự: h\n"
     ]
    },
    {
     "name": "stdout",
     "output_type": "stream",
     "text": [
      "Chữ cái liền trước của h là g\n"
     ]
    }
   ],
   "source": [
    "c = input(\"Nhập một kí tự:\")\n",
    "if c == 'A':\n",
    "    print(\"Đây là trường hợp đặc biệt\")\n",
    "else:\n",
    "    lower_c = c.lower()\n",
    "    if lower_c == 'a':\n",
    "        prev_char = 'z'\n",
    "    else:\n",
    "        prev_char = chr(ord(lower_c) - 1)\n",
    "    print(f\"Chữ cái liền trước của {lower_c} là {prev_char}\")"
   ]
  },
  {
   "cell_type": "code",
   "execution_count": 6,
   "id": "6e224575-476e-4ebd-b1c5-87d565788daa",
   "metadata": {},
   "outputs": [
    {
     "name": "stdin",
     "output_type": "stream",
     "text": [
      "Nhập cạnh a: 3\n",
      "Nhập cạnh b: 4\n",
      "Nhập cạnh c: 5\n"
     ]
    },
    {
     "name": "stdout",
     "output_type": "stream",
     "text": [
      "Diện tích tam giác là: 6.0\n"
     ]
    }
   ],
   "source": [
    "import math\n",
    "a = float(input(\"Nhập cạnh a:\"))\n",
    "b = float(input(\"Nhập cạnh b:\"))\n",
    "c = float(input(\"Nhập cạnh c:\"))\n",
    "if a + b > c and a + c > b and b + c > a:\n",
    "    p = (a + b + c) / 2\n",
    "    S = math.sqrt(p*(p - a)*(p-b)*(p-c))\n",
    "    print(f\"Diện tích tam giác là: {S:.1f}\")\n",
    "else:\n",
    "    print(\"Không phải 3 cạnh của tam giác\")"
   ]
  },
  {
   "cell_type": "code",
   "execution_count": 7,
   "id": "a817dfba-0a92-4fb7-9f02-36b8e07348fd",
   "metadata": {},
   "outputs": [
    {
     "name": "stdin",
     "output_type": "stream",
     "text": [
      "Nhập chuối ký tự thường (Độ dài>=20:)  123456789khgfds\n"
     ]
    },
    {
     "name": "stdout",
     "output_type": "stream",
     "text": [
      "Chữ cái thứ 5 là: 5\n",
      "Chữ cái thứ 9 là: 9\n"
     ]
    }
   ],
   "source": [
    "s = input(\"Nhập chuối ký tự thường (Độ dài>=20:) \")\n",
    "print(\"Chữ cái thứ 5 là:\", s[4])\n",
    "print(\"Chữ cái thứ 9 là:\", s[8])"
   ]
  },
  {
   "cell_type": "code",
   "execution_count": 8,
   "id": "962592c9-562d-4188-acbc-36e13ea957b9",
   "metadata": {},
   "outputs": [
    {
     "name": "stdin",
     "output_type": "stream",
     "text": [
      "Tên chủ hộ:  Pham Xuan Toai\n",
      "Chỉ số tháng trước:  1020\n",
      "Chỉ số tháng này:  1070\n"
     ]
    },
    {
     "name": "stdout",
     "output_type": "stream",
     "text": [
      "Họ và tên: Pham Xuan Toai\n",
      "Tiền phải trả là: 107136\n"
     ]
    }
   ],
   "source": [
    "ten = input(\"Tên chủ hộ: \")\n",
    "chi_so_truoc = int(input(\"Chỉ số tháng trước: \"))\n",
    "chi_so_nay = int(input(\"Chỉ số tháng này: \"))\n",
    "tieu_thu = chi_so_nay - chi_so_truoc\n",
    "if tieu_thu <= 50:\n",
    "    tien = tieu_thu * 1984\n",
    "elif tieu_thu <= 100:\n",
    "    tien = 50 * 1984 + (tieu_thu - 50) * 2050\n",
    "elif tieu_thu <= 200:\n",
    "    tien = 50 * 1984 + 50 * 2050 + (tieu_thu - 100) * 2380\n",
    "elif tieu_thu <= 300:\n",
    "    tien = 50 * 1984 + 50 * 2050 + 100 * 2380 + (tieu_thu - 200) * 2998\n",
    "elif tieu_thu <= 400:\n",
    "    tien = 50 * 1984 + 50 * 2050 + 100 * 2380 + 100 * 2998 + (tieu_thu - 300) * 3350\n",
    "else:\n",
    "    tien = 50 * 1984 + 50 * 2050 + 100 * 2380 + 100 * 2998 + 100 * 3350 + (tieu_thu - 400) * 3460\n",
    "tien_vat = int(tien * 1.08)\n",
    "print(\"Họ và tên:\", ten)\n",
    "print(\"Tiền phải trả là:\", tien_vat)"
   ]
  },
  {
   "cell_type": "code",
   "execution_count": 9,
   "id": "4ff5bbf4-6bae-40d7-b434-7ba00f8ce564",
   "metadata": {},
   "outputs": [
    {
     "name": "stdin",
     "output_type": "stream",
     "text": [
      "Tên chủ hộ:  Nguyen Xuan Long\n",
      "Chỉ số tháng trước:  2097\n",
      "Chỉ số tháng này:  2278\n"
     ]
    },
    {
     "name": "stdout",
     "output_type": "stream",
     "text": [
      "Họ và tên: Nguyen Xuan Long\n",
      "Tiền phải trả là: 426038\n"
     ]
    }
   ],
   "source": [
    "ten = input(\"Tên chủ hộ: \")\n",
    "chi_so_truoc = int(input(\"Chỉ số tháng trước: \"))\n",
    "chi_so_nay = int(input(\"Chỉ số tháng này: \"))\n",
    "tieu_thu = chi_so_nay - chi_so_truoc\n",
    "if tieu_thu <= 50:\n",
    "    tien = tieu_thu * 1984\n",
    "elif tieu_thu <= 100:\n",
    "    tien = 50 * 1984 + (tieu_thu - 50) * 2050\n",
    "elif tieu_thu <= 200:\n",
    "    tien = 50 * 1984 + 50 * 2050 + (tieu_thu - 100) * 2380\n",
    "elif tieu_thu <= 300:\n",
    "    tien = 50 * 1984 + 50 * 2050 + 100 * 2380 + (tieu_thu - 200) * 2998\n",
    "elif tieu_thu <= 400:\n",
    "    tien = 50 * 1984 + 50 * 2050 + 100 * 2380 + 100 * 2998 + (tieu_thu - 300) * 3350\n",
    "else:\n",
    "    tien = 50 * 1984 + 50 * 2050 + 100 * 2380 + 100 * 2998 + 100 * 3350 + (tieu_thu - 400) * 3460\n",
    "tien_vat = int(tien * 1.08)\n",
    "print(\"Họ và tên:\", ten)\n",
    "print(\"Tiền phải trả là:\", tien_vat)"
   ]
  },
  {
   "cell_type": "code",
   "execution_count": 10,
   "id": "4210315a-2a6a-4281-b079-489a95e3c700",
   "metadata": {},
   "outputs": [],
   "source": [
    "#bt1\n"
   ]
  }
 ],
 "metadata": {
  "kernelspec": {
   "display_name": "Python 3 (ipykernel)",
   "language": "python",
   "name": "python3"
  },
  "language_info": {
   "codemirror_mode": {
    "name": "ipython",
    "version": 3
   },
   "file_extension": ".py",
   "mimetype": "text/x-python",
   "name": "python",
   "nbconvert_exporter": "python",
   "pygments_lexer": "ipython3",
   "version": "3.13.5"
  }
 },
 "nbformat": 4,
 "nbformat_minor": 5
}
