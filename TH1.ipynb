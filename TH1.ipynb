{
 "cells": [
  {
   "cell_type": "code",
   "execution_count": 1,
   "id": "9f96866c-2329-4124-93ff-78313cb2679e",
   "metadata": {},
   "outputs": [
    {
     "name": "stdout",
     "output_type": "stream",
     "text": [
      "Hello World!\n"
     ]
    }
   ],
   "source": [
    "print(\"Hello World!\")"
   ]
  },
  {
   "cell_type": "code",
   "execution_count": 3,
   "id": "34cf9e58-a0cd-45c3-aaaf-048801403bce",
   "metadata": {},
   "outputs": [
    {
     "name": "stdin",
     "output_type": "stream",
     "text": [
      "Tên người viết: Khánh Linh\n"
     ]
    },
    {
     "name": "stdout",
     "output_type": "stream",
     "text": [
      "Chào bạn, Khánh Linh\n"
     ]
    }
   ],
   "source": [
    "name = input(\"Tên người viết:\")\n",
    "print(\"Chào bạn,\", name)"
   ]
  },
  {
   "cell_type": "code",
   "execution_count": 7,
   "id": "794b26d1-6936-4b68-8e58-acc7ca4e45d7",
   "metadata": {},
   "outputs": [
    {
     "name": "stdin",
     "output_type": "stream",
     "text": [
      "Số nguyên a: 3\n",
      "Số nguyên b: 5\n"
     ]
    },
    {
     "name": "stdout",
     "output_type": "stream",
     "text": [
      "Tổng 2 số: 8\n",
      "Hiệu 2 số: -2\n",
      "Tích 2 số: 15\n",
      "Phần nguyên 2 số: 0\n",
      "Phần dư 2 số: 3\n",
      "Phần thực: 0.60\n"
     ]
    }
   ],
   "source": [
    "a= int(input(\"Số nguyên a:\"))\n",
    "b = int(input(\"Số nguyên b:\"))\n",
    "tong = a+b\n",
    "hieu = a-b\n",
    "tich = a*b\n",
    "thuong_nguyen = a//b\n",
    "thuong_du = a%b\n",
    "thuong_thuc = a/b\n",
    "print(\"Tổng 2 số:\", tong)\n",
    "print(\"Hiệu 2 số:\", hieu)\n",
    "print(\"Tích 2 số:\", tich)\n",
    "print(\"Phần nguyên 2 số:\", thuong_nguyen)\n",
    "print(\"Phần dư 2 số:\", thuong_du)\n",
    "print(\"Phần thực: {:.2f}\".format(thuong_thuc))"
   ]
  },
  {
   "cell_type": "code",
   "execution_count": 10,
   "id": "3230064a-e292-47bd-a734-c9d0ca8c7d8a",
   "metadata": {},
   "outputs": [
    {
     "name": "stdin",
     "output_type": "stream",
     "text": [
      " 8 7 9 10 9 8\n"
     ]
    },
    {
     "name": "stdout",
     "output_type": "stream",
     "text": [
      "Điểm trung bình: 8.6\n"
     ]
    }
   ],
   "source": [
    "a1, b1, c1, a2, b2, a3 = map(float, input().split())\n",
    "tb = ((a1 + b1 + c1) + (a2 + b2)*2 + a3*3) / 10\n",
    "print(f\"Điểm trung bình: {tb:.1f}\")"
   ]
  },
  {
   "cell_type": "code",
   "execution_count": 12,
   "id": "7567cdd7-aef3-4b3b-ad4d-b07ab8b34ab2",
   "metadata": {},
   "outputs": [
    {
     "name": "stdin",
     "output_type": "stream",
     "text": [
      " 2 3\n"
     ]
    },
    {
     "name": "stdout",
     "output_type": "stream",
     "text": [
      "8\n"
     ]
    }
   ],
   "source": [
    "a, b = map(int, input().split())\n",
    "print(a**b)"
   ]
  },
  {
   "cell_type": "code",
   "execution_count": 13,
   "id": "74b43aff-345c-4d86-968b-4e323817ea47",
   "metadata": {},
   "outputs": [
    {
     "name": "stdin",
     "output_type": "stream",
     "text": [
      " a\n"
     ]
    },
    {
     "name": "stdout",
     "output_type": "stream",
     "text": [
      "Mã Unicode: 97\n",
      "Ký tự hoa: A\n"
     ]
    }
   ],
   "source": [
    "chu = input().strip()\n",
    "print(\"Mã Unicode:\", ord(chu))\n",
    "chu_hoa = chr(ord(chu) - 32)\n",
    "print(\"Ký tự hoa:\", chu_hoa)"
   ]
  },
  {
   "cell_type": "code",
   "execution_count": 15,
   "id": "19d945f1-c5fb-4bab-b163-fa2bf8ee6381",
   "metadata": {},
   "outputs": [
    {
     "name": "stdout",
     "output_type": "stream",
     "text": [
      "A = 512\n",
      "B = 512\n"
     ]
    }
   ],
   "source": [
    "A = ((13**2)*3) + 5\n",
    "B = 13**2*3 + 5\n",
    "print(\"A =\", A)\n",
    "print(\"B =\", B)"
   ]
  },
  {
   "cell_type": "code",
   "execution_count": 17,
   "id": "0cea4a03-6e6f-47db-85be-cddc9d587a49",
   "metadata": {},
   "outputs": [
    {
     "name": "stdin",
     "output_type": "stream",
     "text": [
      "Nhập nhiệt độ (độ C): 25\n"
     ]
    },
    {
     "name": "stdout",
     "output_type": "stream",
     "text": [
      "Nhiệt độ theo Fahrenheit: 77.00\n"
     ]
    }
   ],
   "source": [
    "c = float(input(\"Nhập nhiệt độ (độ C):\"))\n",
    "F = 9/5 * c + 32\n",
    "print(f\"Nhiệt độ theo Fahrenheit: {F:.2f}\")"
   ]
  },
  {
   "cell_type": "code",
   "execution_count": 18,
   "id": "c49fb60c-623a-4162-9a98-7504940e633f",
   "metadata": {},
   "outputs": [
    {
     "name": "stdin",
     "output_type": "stream",
     "text": [
      "Nhập giá đồng hồ (USD): 5000\n"
     ]
    },
    {
     "name": "stdout",
     "output_type": "stream",
     "text": [
      "Tổng số tiền phải trả: 7010.00 USD\n"
     ]
    }
   ],
   "source": [
    "x = float(input(\"Nhập giá đồng hồ (USD):\"))\n",
    "tong = x + 10 + 0.3 * x + 0.1 * x\n",
    "print(f\"Tổng số tiền phải trả: {tong:.2f} USD\")"
   ]
  },
  {
   "cell_type": "code",
   "execution_count": 19,
   "id": "b00e969a-34c3-4dd7-9c9e-113da1bc5d19",
   "metadata": {},
   "outputs": [
    {
     "name": "stdin",
     "output_type": "stream",
     "text": [
      "Nhập tên 3 người: Linh Thư Hà\n"
     ]
    },
    {
     "name": "stdout",
     "output_type": "stream",
     "text": [
      "Hi Hà, Thư and Linh.\n"
     ]
    }
   ],
   "source": [
    "a, b, c = input(\"Nhập tên 3 người:\").split()\n",
    "print(f\"Hi {c}, {b} and {a}.\")"
   ]
  },
  {
   "cell_type": "code",
   "execution_count": 24,
   "id": "bc6ea569-2373-4f45-99fb-22c7b90a0971",
   "metadata": {},
   "outputs": [
    {
     "name": "stdin",
     "output_type": "stream",
     "text": [
      "Giờ và phút, cách nhau bởi dấu cách: 1 30\n"
     ]
    },
    {
     "name": "stdout",
     "output_type": "stream",
     "text": [
      "Số giây: 5400\n"
     ]
    }
   ],
   "source": [
    "h, m = map(int, input(\"Giờ và phút, cách nhau bởi dấu cách:\").split())\n",
    "seconds = h * 3600 + m * 60\n",
    "print(\"Số giây:\", seconds)"
   ]
  },
  {
   "cell_type": "code",
   "execution_count": 26,
   "id": "e805115b-4110-49d6-b308-b26a1839eaf2",
   "metadata": {},
   "outputs": [
    {
     "name": "stdin",
     "output_type": "stream",
     "text": [
      "Độ dài cạnh Rubik: 5\n"
     ]
    },
    {
     "name": "stdout",
     "output_type": "stream",
     "text": [
      "Số miếng dán cần: 150\n"
     ]
    }
   ],
   "source": [
    "n = int(input(\"Độ dài cạnh Rubik:\"))\n",
    "sticker = 6 * (n ** 2)\n",
    "print(\"Số miếng dán cần:\", sticker)"
   ]
  },
  {
   "cell_type": "code",
   "execution_count": 28,
   "id": "19efed51-5686-4efc-8826-1fa4a35f2d12",
   "metadata": {},
   "outputs": [
    {
     "name": "stdin",
     "output_type": "stream",
     "text": [
      " 9 9\n"
     ]
    },
    {
     "name": "stdout",
     "output_type": "stream",
     "text": [
      "Kết quả: 1\n"
     ]
    }
   ],
   "source": [
    "a, b = map(int, input().split())\n",
    "result = (a * b) % 10\n",
    "print(\"Kết quả:\", result)"
   ]
  },
  {
   "cell_type": "code",
   "execution_count": 29,
   "id": "90971a3c-190f-4dde-b657-06befc2f4f3f",
   "metadata": {},
   "outputs": [
    {
     "name": "stdin",
     "output_type": "stream",
     "text": [
      "Nhập a và b: 2 9\n"
     ]
    },
    {
     "name": "stdout",
     "output_type": "stream",
     "text": [
      "Sau khi hoán đổi:\n",
      "a= 9\n",
      "b= 2\n"
     ]
    }
   ],
   "source": [
    "a, b = map(int, input(\"Nhập a và b:\").split())\n",
    "a, b = b, a\n",
    "print(\"Sau khi hoán đổi:\")\n",
    "print(\"a=\", a)\n",
    "print(\"b=\", b)"
   ]
  },
  {
   "cell_type": "code",
   "execution_count": 30,
   "id": "1d4c3fac-0ef4-47bb-be3d-31a8f76ef113",
   "metadata": {},
   "outputs": [
    {
     "name": "stdin",
     "output_type": "stream",
     "text": [
      "Nhập n: 6\n"
     ]
    },
    {
     "name": "stdout",
     "output_type": "stream",
     "text": [
      "Số sao là: 181\n"
     ]
    }
   ],
   "source": [
    "n = int(input(\"Nhập n:\"))\n",
    "so_sao = 6 * n * (n-1) + 1\n",
    "print(\"Số sao là:\", so_sao)"
   ]
  },
  {
   "cell_type": "code",
   "execution_count": 31,
   "id": "2569abc3-1518-4614-9781-9b20f7e135e0",
   "metadata": {},
   "outputs": [
    {
     "name": "stdout",
     "output_type": "stream",
     "text": [
      "Spring\n",
      "Summer\n",
      "Autumn\n",
      "Winter\n"
     ]
    }
   ],
   "source": [
    "print(\"Spring\")\n",
    "print(\"Summer\")\n",
    "print(\"Autumn\")\n",
    "print(\"Winter\")"
   ]
  },
  {
   "cell_type": "code",
   "execution_count": 32,
   "id": "e1513779-b787-49a0-b771-1c2e5e64a8c0",
   "metadata": {},
   "outputs": [
    {
     "name": "stdout",
     "output_type": "stream",
     "text": [
      "  *  \n",
      " *** \n",
      "*****\n"
     ]
    }
   ],
   "source": [
    "print(\"  *  \")\n",
    "print(\" *** \")\n",
    "print(\"*****\")"
   ]
  },
  {
   "cell_type": "code",
   "execution_count": 34,
   "id": "91a41c92-0444-47b3-974a-9611651cf075",
   "metadata": {},
   "outputs": [
    {
     "name": "stdout",
     "output_type": "stream",
     "text": [
      "### # #  ### ###\n",
      " #  #  #  #   #\n",
      " #  #   # #   #\n",
      " #  #  #  #   #\n",
      " #  # #   #   #\n"
     ]
    }
   ],
   "source": [
    "print(\"### # #  ### ###\")\n",
    "print(\" #  #  #  #   #\")\n",
    "print(\" #  #   # #   #\")\n",
    "print(\" #  #  #  #   #\")\n",
    "print(\" #  # #   #   #\")"
   ]
  },
  {
   "cell_type": "code",
   "execution_count": 35,
   "id": "2d4973dc-935b-488f-86ce-8b598aee6a8e",
   "metadata": {},
   "outputs": [
    {
     "name": "stdout",
     "output_type": "stream",
     "text": [
      "Monday\n",
      "Tuesday\n",
      "Wednesday\n",
      "Thursday\n",
      "Friday\n",
      "Saturday\n",
      "Sunday\n"
     ]
    }
   ],
   "source": [
    "print(\"Monday\\nTuesday\\nWednesday\\nThursday\\nFriday\\nSaturday\\nSunday\")"
   ]
  },
  {
   "cell_type": "code",
   "execution_count": 36,
   "id": "58a6af76-2028-4bd6-b731-70c4c0e37de2",
   "metadata": {},
   "outputs": [
    {
     "name": "stdout",
     "output_type": "stream",
     "text": [
      "Hello, world\n",
      "Hello, world\n",
      "Hello, world\n",
      "Hello, world\n",
      "Hello, world\n",
      "Hello, world\n",
      "Hello, world\n",
      "Hello, world\n",
      "Hello, world\n",
      "Hello, world\n"
     ]
    }
   ],
   "source": [
    "for i in range(10):\n",
    "    print(\"Hello, world\")"
   ]
  },
  {
   "cell_type": "code",
   "execution_count": null,
   "id": "43e74d05-8da0-47e7-97d6-286d8a579154",
   "metadata": {},
   "outputs": [],
   "source": []
  }
 ],
 "metadata": {
  "kernelspec": {
   "display_name": "Python 3 (ipykernel)",
   "language": "python",
   "name": "python3"
  },
  "language_info": {
   "codemirror_mode": {
    "name": "ipython",
    "version": 3
   },
   "file_extension": ".py",
   "mimetype": "text/x-python",
   "name": "python",
   "nbconvert_exporter": "python",
   "pygments_lexer": "ipython3",
   "version": "3.13.5"
  }
 },
 "nbformat": 4,
 "nbformat_minor": 5
}
