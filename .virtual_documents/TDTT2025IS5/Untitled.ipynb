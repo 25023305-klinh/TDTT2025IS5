a = int(input("Chiều dài:"))
b = int(input("Chiều rộng:"))
print("Chu vi hình chữ nhật là:", 2*(a+b))
print("Diện tích hình chữ nhật là:", a*b)



r = int(input("Bán kính hình tròn:"))
print("Chu vi hình tròn là:", 2*3.14*r)
print("Diện tích hình tròn là:", 3.14*(r**2))
        


import math
a, b, c = map(float, input("Nhập 3 cạnh a, b, c:").split())
if a + b <= c or a + c <= b or c + b <= a:
    print("Không phải là ba cạnh của tam giác")
else:
    if a == b == c:
        loai = "Tam giac deu"
    elif a == b or b == c or a == c:
        loai = "Tam giac can"
    elif (math.isclose (a*a + b*b, c*c) or
          math.isclose (b*b + c*c, a*a) or 
          math.isclose (a*a + c*c, b*b)):
        loai = "Tam giac vuong"
    else:
        loai = "Tam giac thuong"
P = a + b + c
p = P/2
S = math.sqrt(p*(p-a)*(p-b)*(p-c))
print(loai)
print("Chu vi tam giác là:", P)
print("Diện tích tam giác là:", S)


a = float(input("Hệ số a:"))
b = float(input("Hệ số b:"))
if a == 0:
    if b == 0:
       print("Phương trình vô số nghiệm")
    else:
       print("Phương trình vô nghiệm")
else:
   x = -b / a
   print("Nghiệm của phương trình là x=", x)


a, b, c = map(float, input("Nhập 3 cạnh a, b, c:").split())
if a == 0:
    if b == 0:
        if c == 0:
            print("Phương trình có vô số nghiệm")
        else:
            print("Phương trình vô nghiệm")
    else:
        x = -c / b
        print("Phương trình có nghiệm duy nhất là x =", x)
else:
    delta = b**2 - 4*a*c
    if delta < 0:
        print("Phương trình vô nghiệm")
    elif delta == 0:
        x = -b / 2*a
        print("Phương trình có nghiệm kép là x =", x)
    else:
        x1 = (-b + math.sqrt(delta)) / 2*a
        x2 = (-b - math.sqrt(delta)) / 2*a
        print("Phương trình có 2 nghiệm x1 và x2 lần lượt là:", x1, x2)
        
        


a, b, c, d = map(float, input("Nhập 4 số a, b, c, d:").split())
kq_max = max(a, b, c, d)
print("Giá trị lớn nhất là:", int(kq_max))


a, b, c, d = map(float, input("Nhập 4 số a, b, c, d:").split())
kq_max = a
if b > kq_max:
    kq_max = b
if c > kq_max:
    kq_max = c
if d > kq_max:
    kq_max = d
print("Giá trị lớn nhất là:", kq_max)


a, b, c, d = map(float, input("Nhập 4 số a, b, c, d:").split())
print("Giá trị nhỏ nhất là:", min(a, b, c, d))


a, b, c, d = map(float, input("Nhập 4 số a, b, c, d:").split())
if a > b:
    kq_min = b
else:
    kq_min = a
if c < kq_min:
    kq_min = c
else: 
    kq_min = kq_min
if d < kq_min:
    kq_min = d
else: 
    kq_min = kq_min
print("Giá trị nhỏ nhất là:", int(kq_min))




