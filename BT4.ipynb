{
 "cells": [
  {
   "cell_type": "code",
   "execution_count": 3,
   "id": "6d2daf97-c135-4e7a-bf08-d3ddd5195420",
   "metadata": {},
   "outputs": [
    {
     "name": "stdin",
     "output_type": "stream",
     "text": [
      " 5\n"
     ]
    },
    {
     "name": "stdout",
     "output_type": "stream",
     "text": [
      "0 1 2 3 4 5 \n",
      " 15\n"
     ]
    }
   ],
   "source": [
    "# Bai 1:\n",
    "n = int(input())\n",
    "S = 0\n",
    "for i in range(n+1):\n",
    "    print(i, end = ' ')\n",
    "    S += i # Sum = Sum + i\n",
    "print(\"\\n\", S)"
   ]
  },
  {
   "cell_type": "code",
   "execution_count": 14,
   "id": "0290d522-bf00-4ae9-afdd-ee775f8e219f",
   "metadata": {},
   "outputs": [
    {
     "name": "stdin",
     "output_type": "stream",
     "text": [
      "Nhập 1 số nguyên dương: 87\n"
     ]
    },
    {
     "name": "stdout",
     "output_type": "stream",
     "text": [
      "Số nguyên dương bạn nhập được là: 87\n",
      "Dừng lại tại i = 3\n",
      "87 không phải là số nguyên tố\n"
     ]
    }
   ],
   "source": [
    "# bai 2\n",
    "import math as mt\n",
    "try:\n",
    "    n = 0\n",
    "    for _ in range(10000):\n",
    "        n = int(input(\"Nhập 1 số nguyên dương:\"))\n",
    "        if n > 0:\n",
    "            break\n",
    "        else:\n",
    "            print(\"Phải nhập số nguyên dương\")\n",
    "    print(\"Số nguyên dương bạn nhập được là:\", n)\n",
    "    flag = True\n",
    "    for i in range(2, int(mt.sqrt(n) + 1 )):\n",
    "        if n % i == 0:\n",
    "            print(\"Dừng lại tại i =\", i)\n",
    "            flag = False\n",
    "            break\n",
    "    if flag:\n",
    "        print(n, \"là số nguyên tố\")\n",
    "    else:\n",
    "        print(n, \"không phải là số nguyên tố\")\n",
    "except ValueError:\n",
    "    print(\"Đã xảy ra lỗi, vui lòng nhập lại\")\n",
    "    "
   ]
  },
  {
   "cell_type": "code",
   "execution_count": 23,
   "id": "63292fdc-8939-43a0-8dda-0af323df3d98",
   "metadata": {},
   "outputs": [
    {
     "name": "stdin",
     "output_type": "stream",
     "text": [
      " 6\n"
     ]
    },
    {
     "name": "stdout",
     "output_type": "stream",
     "text": [
      "4320\n"
     ]
    }
   ],
   "source": [
    "#bai 3\n",
    "try:\n",
    "    n = int(input())\n",
    "    gaithua = 1\n",
    "    for i in range(1, n + 1):\n",
    "        giaithua = giaithua*i\n",
    "    print(giaithua)\n",
    "except ValueError:\n",
    "    print(\"Bạn đang nhập dữ liệu sai\")"
   ]
  },
  {
   "cell_type": "code",
   "execution_count": 24,
   "id": "8c8f8cd7-3d50-4c59-864f-f23f3862b79c",
   "metadata": {},
   "outputs": [
    {
     "name": "stdin",
     "output_type": "stream",
     "text": [
      " 0\n"
     ]
    },
    {
     "name": "stdout",
     "output_type": "stream",
     "text": [
      "1\n"
     ]
    }
   ],
   "source": [
    "#bai 4\n",
    "try:\n",
    "    n = int(input())\n",
    "    n = abs(n)\n",
    "    count = 0\n",
    "    if n == 0:\n",
    "        count = 1\n",
    "    for _ in range(10000):\n",
    "        if n > 0: \n",
    "            count += 1\n",
    "            n //= 10\n",
    "        else: \n",
    "            break\n",
    "    print(count)\n",
    "except ValueError:\n",
    "    print(\"Bạn nhập sai dữ liệu\")\n",
    " "
   ]
  },
  {
   "cell_type": "code",
   "execution_count": 25,
   "id": "f41e548c-cbf0-4135-8378-bab8a6f6b8f7",
   "metadata": {},
   "outputs": [
    {
     "name": "stdin",
     "output_type": "stream",
     "text": [
      " 6\n",
      " 7\n",
      " 3\n",
      " 9\n",
      " 6\n",
      " 4\n"
     ]
    },
    {
     "name": "stdout",
     "output_type": "stream",
     "text": [
      "It's a joke\n"
     ]
    }
   ],
   "source": [
    "#bai5\n",
    "try:\n",
    "    n = int(input())\n",
    "    flag = False\n",
    "    for _ in range(1, n):\n",
    "        a = int(input())\n",
    "        if a == 42:\n",
    "            print(\"I've found the meaning of life\")\n",
    "            flag = True\n",
    "            break\n",
    "    if flag == False:\n",
    "        print(\"It's a joke\")\n",
    "except ValueError:\n",
    "    print(\"Dữ liệu không hợp lệ\")\n",
    "        "
   ]
  },
  {
   "cell_type": "code",
   "execution_count": 36,
   "id": "229f09fd-fbad-4507-adeb-c880a4853b07",
   "metadata": {},
   "outputs": [
    {
     "name": "stdin",
     "output_type": "stream",
     "text": [
      " 90\n"
     ]
    },
    {
     "name": "stdout",
     "output_type": "stream",
     "text": [
      "2 6 10 18 30 \n",
      " Số lượng ước chẵn của 90 là: 6\n"
     ]
    }
   ],
   "source": [
    "#bai 11\n",
    "n = int(input(\"\"))\n",
    "dem = 1 if n % 2 == 0 else 0\n",
    "for i in range(2, n//2+1, 2):\n",
    "    if n % i == 0:\n",
    "        print(i, end=\" \")\n",
    "        dem += 1\n",
    "print(\"\\n Số lượng ước chẵn của\", n, \"là:\", dem)"
   ]
  },
  {
   "cell_type": "code",
   "execution_count": 38,
   "id": "c777abee-ef26-4a04-876b-5c1baf2cd5be",
   "metadata": {},
   "outputs": [
    {
     "name": "stdin",
     "output_type": "stream",
     "text": [
      "Nhập số tiền gửi: 2000000\n",
      "Số tháng muốn gửi: 6\n"
     ]
    },
    {
     "name": "stdout",
     "output_type": "stream",
     "text": [
      "2085484\n"
     ]
    }
   ],
   "source": [
    "#bai 12\n",
    "x = int(input(\"Nhập số tiền gửi:\"))\n",
    "n = int(input(\"Số tháng muốn gửi:\"))\n",
    "for _ in range(n):\n",
    "    x = x*1.007\n",
    "print(round(x))"
   ]
  },
  {
   "cell_type": "code",
   "execution_count": 39,
   "id": "9b705249-be22-4de0-af05-1520c586a33f",
   "metadata": {},
   "outputs": [
    {
     "name": "stdin",
     "output_type": "stream",
     "text": [
      " 350\n",
      " 560\n"
     ]
    },
    {
     "name": "stdout",
     "output_type": "stream",
     "text": [
      "false\n"
     ]
    }
   ],
   "source": [
    "#bai 13\n",
    "try:\n",
    "    a = int(input())\n",
    "    b = int(input())\n",
    "    tong_uoc_a = 0\n",
    "    for i in range(1, a//2+1):\n",
    "        if a % i == 0:\n",
    "            tong_uoc_a += i\n",
    "    tong_uoc_b = 0\n",
    "    for i in range(1, b//2+1):\n",
    "        if b % i == 0:\n",
    "            tong_uoc_b += i\n",
    "    if tong_uoc_a == b and tong_uoc_b == a:\n",
    "        print(\"true\")\n",
    "    else:\n",
    "        print(\"false\")\n",
    "except ValueError:\n",
    "    print(\"Bạn nhập sai dữ liệu\")"
   ]
  },
  {
   "cell_type": "code",
   "execution_count": 41,
   "id": "cc184373-668a-43c3-a1a0-cb0282f2cd78",
   "metadata": {},
   "outputs": [
    {
     "name": "stdin",
     "output_type": "stream",
     "text": [
      " 8 \n",
      " 28\n"
     ]
    },
    {
     "name": "stdout",
     "output_type": "stream",
     "text": [
      "Ước chung lớn nhất của 8  và 28 là: 4\n"
     ]
    }
   ],
   "source": [
    "#bai14\n",
    "a = int(input())\n",
    "b = int(input())\n",
    "ucln = 1\n",
    "for i in range(1, min(a, b) + 1):\n",
    "    if a % i == 0 and b % i == 0:\n",
    "        ucln = i\n",
    "print(\"Ước chung lớn nhất của\", a, \" và\", b, \"là:\", ucln)"
   ]
  },
  {
   "cell_type": "code",
   "execution_count": 42,
   "id": "463d11ac-0df7-4dcb-9776-6f9beb378504",
   "metadata": {},
   "outputs": [
    {
     "name": "stdin",
     "output_type": "stream",
     "text": [
      " 10 50\n"
     ]
    },
    {
     "name": "stdout",
     "output_type": "stream",
     "text": [
      "10\n"
     ]
    }
   ],
   "source": [
    "# bai 14 cach 2\n",
    "a,b = map(int, input().split())\n",
    "for _ in range(10000):\n",
    "    if(a == b):\n",
    "        ucln = a\n",
    "        break\n",
    "    else:\n",
    "        if a > b:\n",
    "            a = a - b\n",
    "        else:\n",
    "            b = b - a\n",
    "print(ucln)"
   ]
  },
  {
   "cell_type": "code",
   "execution_count": 47,
   "id": "1a42a0b8-7fe6-4ed2-a192-a97c33f290c1",
   "metadata": {},
   "outputs": [
    {
     "name": "stdin",
     "output_type": "stream",
     "text": [
      " 300 800000000\n"
     ]
    },
    {
     "name": "stdout",
     "output_type": "stream",
     "text": [
      "300 sau số lần lặp là: 2\n"
     ]
    }
   ],
   "source": [
    "#bai14 cach 3\n",
    "a,b = map(int, input().split())\n",
    "ucln = 0\n",
    "cnt = 0\n",
    "for _ in range(10000):\n",
    "    cnt += 1\n",
    "    if(a*b == 0):\n",
    "        ucln = a + b\n",
    "        break\n",
    "    else:\n",
    "        if a > b:\n",
    "            a = a % b\n",
    "        else:\n",
    "            b = b & a\n",
    "print(ucln, \"sau số lần lặp là:\", cnt)"
   ]
  },
  {
   "cell_type": "code",
   "execution_count": null,
   "id": "1e9dfa4b-fd26-4ba5-ba2f-e4868360c46b",
   "metadata": {},
   "outputs": [],
   "source": []
  }
 ],
 "metadata": {
  "kernelspec": {
   "display_name": "Python 3 (ipykernel)",
   "language": "python",
   "name": "python3"
  },
  "language_info": {
   "codemirror_mode": {
    "name": "ipython",
    "version": 3
   },
   "file_extension": ".py",
   "mimetype": "text/x-python",
   "name": "python",
   "nbconvert_exporter": "python",
   "pygments_lexer": "ipython3",
   "version": "3.13.5"
  }
 },
 "nbformat": 4,
 "nbformat_minor": 5
}
